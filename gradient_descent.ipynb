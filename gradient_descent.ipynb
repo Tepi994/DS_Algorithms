{
 "cells": [
  {
   "cell_type": "code",
   "execution_count": 13,
   "metadata": {},
   "outputs": [],
   "source": [
    "import numpy as np\n",
    "import pandas as pd\n",
    "import math\n",
    "from numpy import linalg as LA\n",
    "import matplotlib.pyplot as plt"
   ]
  },
  {
   "cell_type": "code",
   "execution_count": null,
   "metadata": {},
   "outputs": [],
   "source": [
    "def gradient_descent(x,lr,tolerance, it_limit):\n",
    "    i = 0\n",
    "    Q = np.array([[2,-1,0],[-1,2,-1],[0,-1,2]])\n",
    "    c = np.array([[1],[0],[1]])\n",
    "  \n",
    "    gradient =  np.matmul(Q,x) + c\n",
    "    while LA.norm(gradient) > tolerance and i < it_limit:\n",
    "        x_t = x\n",
    "        gradient = np.matmul(Q,x_t) + c\n",
    "        x = x - lr*gradient\n",
    "        i+=1\n",
    "        #print(i)\n",
    "        #print(LA.norm(gradient))\n",
    "    return x"
   ]
  },
  {
   "cell_type": "markdown",
   "metadata": {},
   "source": [
    "# 1. Gradient Descent"
   ]
  },
  {
   "cell_type": "markdown",
   "metadata": {},
   "source": [
    "### Quadratic Problem"
   ]
  },
  {
   "cell_type": "code",
   "execution_count": 41,
   "metadata": {},
   "outputs": [],
   "source": [
    "Q = np.array([[2,-1,0],[-1,2,-1],[0,-1,2]])\n",
    "c = np.array([[1],[0],[1]])\n",
    "x = np.array([[3],[5],[7]])"
   ]
  },
  {
   "cell_type": "code",
   "execution_count": 42,
   "metadata": {},
   "outputs": [
    {
     "data": {
      "text/plain": [
       "array([[43.]])"
      ]
     },
     "execution_count": 42,
     "metadata": {},
     "output_type": "execute_result"
    }
   ],
   "source": [
    "y = 0.5*np.matmul(np.matmul(x.T,Q),x) + np.matmul(c.T,x)\n",
    "gradient = np.matmul(Q,x) + c\n",
    "gradient\n",
    "y"
   ]
  },
  {
   "cell_type": "markdown",
   "metadata": {},
   "source": [
    "## Analytic Solution for Quadratic Problem"
   ]
  },
  {
   "cell_type": "code",
   "execution_count": 228,
   "metadata": {},
   "outputs": [
    {
     "data": {
      "text/plain": [
       "array([[-1.],\n",
       "       [-1.],\n",
       "       [-1.]])"
      ]
     },
     "execution_count": 228,
     "metadata": {},
     "output_type": "execute_result"
    }
   ],
   "source": [
    "-np.matmul(LA.inv(Q),c)"
   ]
  },
  {
   "cell_type": "markdown",
   "metadata": {},
   "source": [
    "## Gradient Descent Exact Step"
   ]
  },
  {
   "cell_type": "code",
   "execution_count": 47,
   "metadata": {},
   "outputs": [],
   "source": [
    "def gradient_descent_exact_step(x,tolerance, it_limit,Q_m,c_m):\n",
    "    i = 0\n",
    "    df = pd.DataFrame(columns=['k','x_k','p_k','norm_gradient','lr'])\n",
    "    \n",
    "  \n",
    "    gradient =  np.matmul(Q_m,x) + c_m\n",
    "    while LA.norm(gradient) > tolerance and i < it_limit:\n",
    "        x_k = x\n",
    "        gradient = np.matmul(Q_m,x_k) + c_m\n",
    "        lr = np.matmul(gradient.T,gradient)/np.matmul(np.matmul(gradient.T,Q),gradient)\n",
    "        x = x - lr*gradient\n",
    "        i+=1\n",
    "        lr = np.matmul(gradient.T,gradient)/np.matmul(np.matmul(gradient.T,Q),gradient)\n",
    "        run = {'k':i, 'x_k':x_k,'p_k':gradient,'norm_gradient':LA.norm(gradient),'lr':lr}\n",
    "        df = df.append(run, ignore_index=True)\n",
    "        #print(i)\n",
    "        #print(LA.norm(gradient))\n",
    "    return df\n",
    "    "
   ]
  },
  {
   "cell_type": "code",
   "execution_count": 93,
   "metadata": {},
   "outputs": [
    {
     "data": {
      "text/html": [
       "<div>\n",
       "<style scoped>\n",
       "    .dataframe tbody tr th:only-of-type {\n",
       "        vertical-align: middle;\n",
       "    }\n",
       "\n",
       "    .dataframe tbody tr th {\n",
       "        vertical-align: top;\n",
       "    }\n",
       "\n",
       "    .dataframe thead th {\n",
       "        text-align: right;\n",
       "    }\n",
       "</style>\n",
       "<table border=\"1\" class=\"dataframe\">\n",
       "  <thead>\n",
       "    <tr style=\"text-align: right;\">\n",
       "      <th></th>\n",
       "      <th>k</th>\n",
       "      <th>x_k</th>\n",
       "      <th>p_k</th>\n",
       "      <th>norm_gradient</th>\n",
       "      <th>lr</th>\n",
       "    </tr>\n",
       "  </thead>\n",
       "  <tbody>\n",
       "    <tr>\n",
       "      <th>0</th>\n",
       "      <td>1</td>\n",
       "      <td>[[3], [5], [7]]</td>\n",
       "      <td>[[2], [0], [10]]</td>\n",
       "      <td>10.198039</td>\n",
       "      <td>[[0.5]]</td>\n",
       "    </tr>\n",
       "    <tr>\n",
       "      <th>1</th>\n",
       "      <td>2</td>\n",
       "      <td>[[2.0], [5.0], [2.0]]</td>\n",
       "      <td>[[0.0], [6.0], [0.0]]</td>\n",
       "      <td>6.000000</td>\n",
       "      <td>[[0.5]]</td>\n",
       "    </tr>\n",
       "    <tr>\n",
       "      <th>2</th>\n",
       "      <td>3</td>\n",
       "      <td>[[2.0], [2.0], [2.0]]</td>\n",
       "      <td>[[3.0], [0.0], [3.0]]</td>\n",
       "      <td>4.242641</td>\n",
       "      <td>[[0.5]]</td>\n",
       "    </tr>\n",
       "    <tr>\n",
       "      <th>3</th>\n",
       "      <td>4</td>\n",
       "      <td>[[0.5], [2.0], [0.5]]</td>\n",
       "      <td>[[0.0], [3.0], [0.0]]</td>\n",
       "      <td>3.000000</td>\n",
       "      <td>[[0.5]]</td>\n",
       "    </tr>\n",
       "    <tr>\n",
       "      <th>4</th>\n",
       "      <td>5</td>\n",
       "      <td>[[0.5], [0.5], [0.5]]</td>\n",
       "      <td>[[1.5], [0.0], [1.5]]</td>\n",
       "      <td>2.121320</td>\n",
       "      <td>[[0.5]]</td>\n",
       "    </tr>\n",
       "  </tbody>\n",
       "</table>\n",
       "</div>"
      ],
      "text/plain": [
       "   k                    x_k                    p_k  norm_gradient       lr\n",
       "0  1        [[3], [5], [7]]       [[2], [0], [10]]      10.198039  [[0.5]]\n",
       "1  2  [[2.0], [5.0], [2.0]]  [[0.0], [6.0], [0.0]]       6.000000  [[0.5]]\n",
       "2  3  [[2.0], [2.0], [2.0]]  [[3.0], [0.0], [3.0]]       4.242641  [[0.5]]\n",
       "3  4  [[0.5], [2.0], [0.5]]  [[0.0], [3.0], [0.0]]       3.000000  [[0.5]]\n",
       "4  5  [[0.5], [0.5], [0.5]]  [[1.5], [0.0], [1.5]]       2.121320  [[0.5]]"
      ]
     },
     "execution_count": 93,
     "metadata": {},
     "output_type": "execute_result"
    }
   ],
   "source": [
    "Q = np.array([[2,-1,0],[-1,2,-1],[0,-1,2]])\n",
    "c = np.array([[1],[0],[1]])\n",
    "x = np.array([[3],[5],[7]])\n",
    "gd_exact_1=gradient_descent_exact_step(x = x,tolerance=1e-6, it_limit=30,Q_m=Q,c_m=c)\n",
    "gd_exact_1.head()"
   ]
  },
  {
   "cell_type": "code",
   "execution_count": 95,
   "metadata": {
    "scrolled": true
   },
   "outputs": [
    {
     "data": {
      "image/png": "[encoded data removed]",
      "text/plain": [
       "<Figure size 432x288 with 1 Axes>"
      ]
     },
     "metadata": {
      "needs_background": "light"
     },
     "output_type": "display_data"
    }
   ],
   "source": [
    "plt.plot(gd_exact_1['k'],gd_exact_1['norm_gradient'])\n",
    "plt.title(\"Convergencia\")\n",
    "plt.xlabel(\"Iteracion\")\n",
    "plt.ylabel(\"Error\")\n",
    "plt.show()"
   ]
  },
  {
   "cell_type": "code",
   "execution_count": 94,
   "metadata": {},
   "outputs": [
    {
     "data": {
      "text/html": [
       "<div>\n",
       "<style scoped>\n",
       "    .dataframe tbody tr th:only-of-type {\n",
       "        vertical-align: middle;\n",
       "    }\n",
       "\n",
       "    .dataframe tbody tr th {\n",
       "        vertical-align: top;\n",
       "    }\n",
       "\n",
       "    .dataframe thead th {\n",
       "        text-align: right;\n",
       "    }\n",
       "</style>\n",
       "<table border=\"1\" class=\"dataframe\">\n",
       "  <thead>\n",
       "    <tr style=\"text-align: right;\">\n",
       "      <th></th>\n",
       "      <th>k</th>\n",
       "      <th>x_k</th>\n",
       "      <th>p_k</th>\n",
       "      <th>norm_gradient</th>\n",
       "      <th>lr</th>\n",
       "    </tr>\n",
       "  </thead>\n",
       "  <tbody>\n",
       "    <tr>\n",
       "      <th>0</th>\n",
       "      <td>1</td>\n",
       "      <td>[[-1], [2], [-3]]</td>\n",
       "      <td>[[-3], [8], [-7]]</td>\n",
       "      <td>11.045361</td>\n",
       "      <td>[[0.30198019801980197]]</td>\n",
       "    </tr>\n",
       "    <tr>\n",
       "      <th>1</th>\n",
       "      <td>2</td>\n",
       "      <td>[[-0.09405940594059414], [-0.41584158415841577...</td>\n",
       "      <td>[[1.2277227722772275], [0.14851485148514865], ...</td>\n",
       "      <td>1.287014</td>\n",
       "      <td>[[0.5423701611350068]]</td>\n",
       "    </tr>\n",
       "    <tr>\n",
       "      <th>2</th>\n",
       "      <td>3</td>\n",
       "      <td>[[-0.7599396037697113], [-0.49639160808935745]...</td>\n",
       "      <td>[[-0.023487599450064955], [0.45997494401812267...</td>\n",
       "      <td>0.473704</td>\n",
       "      <td>[[0.6089269626485911]]</td>\n",
       "    </tr>\n",
       "    <tr>\n",
       "      <th>3</th>\n",
       "      <td>4</td>\n",
       "      <td>[[-0.7456373711766765], [-0.7764827536447687],...</td>\n",
       "      <td>[[0.2852080112914157], [-0.04706818130254431],...</td>\n",
       "      <td>0.386104</td>\n",
       "      <td>[[0.42703457410983775]]</td>\n",
       "    </tr>\n",
       "    <tr>\n",
       "      <th>4</th>\n",
       "      <td>5</td>\n",
       "      <td>[[-0.86743105281122], [-0.756383012888112], [-...</td>\n",
       "      <td>[[0.021520907265672018], [0.22422996593110212]...</td>\n",
       "      <td>0.225920</td>\n",
       "      <td>[[0.6026588726179862]]</td>\n",
       "    </tr>\n",
       "  </tbody>\n",
       "</table>\n",
       "</div>"
      ],
      "text/plain": [
       "   k                                                x_k  \\\n",
       "0  1                                  [[-1], [2], [-3]]   \n",
       "1  2  [[-0.09405940594059414], [-0.41584158415841577...   \n",
       "2  3  [[-0.7599396037697113], [-0.49639160808935745]...   \n",
       "3  4  [[-0.7456373711766765], [-0.7764827536447687],...   \n",
       "4  5  [[-0.86743105281122], [-0.756383012888112], [-...   \n",
       "\n",
       "                                                 p_k  norm_gradient  \\\n",
       "0                                  [[-3], [8], [-7]]      11.045361   \n",
       "1  [[1.2277227722772275], [0.14851485148514865], ...       1.287014   \n",
       "2  [[-0.023487599450064955], [0.45997494401812267...       0.473704   \n",
       "3  [[0.2852080112914157], [-0.04706818130254431],...       0.386104   \n",
       "4  [[0.021520907265672018], [0.22422996593110212]...       0.225920   \n",
       "\n",
       "                        lr  \n",
       "0  [[0.30198019801980197]]  \n",
       "1   [[0.5423701611350068]]  \n",
       "2   [[0.6089269626485911]]  \n",
       "3  [[0.42703457410983775]]  \n",
       "4   [[0.6026588726179862]]  "
      ]
     },
     "execution_count": 94,
     "metadata": {},
     "output_type": "execute_result"
    }
   ],
   "source": [
    "Q = np.array([[2,-1,0],[-1,2,-1],[0,-1,2]])\n",
    "c = np.array([[1],[0],[1]])\n",
    "x = np.array([[-1],[2],[-3]])\n",
    "gd_exact_2 =gradient_descent_exact_step(x = x,tolerance=1e-6, it_limit=30,Q_m=Q,c_m=c)\n",
    "gd_exact_2.head()"
   ]
  },
  {
   "cell_type": "code",
   "execution_count": 96,
   "metadata": {
    "scrolled": true
   },
   "outputs": [
    {
     "data": {
      "image/png": "[encoded data removed]",
      "text/plain": [
       "<Figure size 432x288 with 1 Axes>"
      ]
     },
     "metadata": {
      "needs_background": "light"
     },
     "output_type": "display_data"
    }
   ],
   "source": [
    "plt.plot(gd_exact_2['k'],gd_exact_2['norm_gradient'])\n",
    "plt.title(\"Convergencia\")\n",
    "plt.xlabel(\"Iteracion\")\n",
    "plt.ylabel(\"Error\")\n",
    "plt.show()"
   ]
  },
  {
   "cell_type": "markdown",
   "metadata": {},
   "source": [
    "## Regarding gradient descent with exact line search: \n",
    "For both problems, the error converges quickly, with a quadratic convergence rate. This is expected as exact line search finds the optimal step size."
   ]
  },
  {
   "cell_type": "markdown",
   "metadata": {},
   "source": [
    "## Constant Step Gradient Descent "
   ]
  },
  {
   "cell_type": "code",
   "execution_count": 25,
   "metadata": {},
   "outputs": [],
   "source": [
    "def gradient_descent_constant_step(x,lr,tolerance, it_limit,Q_m,c_m):\n",
    "    i = 0\n",
    "    df = pd.DataFrame(columns=['k','x_k','p_k','norm_gradient'])\n",
    "  \n",
    "    gradient =  np.matmul(Q_m,x) + c_m\n",
    "    while LA.norm(gradient) > tolerance and i < it_limit:\n",
    "        x_k = x\n",
    "        gradient = np.matmul(Q_m,x_k) + c_m\n",
    "        x = x - lr*gradient\n",
    "        i+=1\n",
    "        run = {'k':i, 'x_k':x_k,'p_k':gradient,'norm_gradient':LA.norm(gradient)}\n",
    "        df = df.append(run, ignore_index=True)\n",
    "        #print(i)\n",
    "        #print(LA.norm(gradient))\n",
    "    return df\n",
    "    "
   ]
  },
  {
   "cell_type": "code",
   "execution_count": 50,
   "metadata": {},
   "outputs": [],
   "source": [
    "lrs = [0.001, 0.01, 0.1, 0.5, 1]\n",
    "Q = np.array([[2,-1,0],[-1,2,-1],[0,-1,2]])\n",
    "c = np.array([[1],[0],[1]])\n",
    "datos_1 = gradient_descent_constant_step(x = np.array([[3],[5],[7]]),lr=0.5,tolerance=1e-6, it_limit=100,Q_m=Q,c_m=c)"
   ]
  },
  {
   "cell_type": "code",
   "execution_count": 77,
   "metadata": {},
   "outputs": [
    {
     "data": {
      "image/png": "[encoded data removed]",
      "text/plain": [
       "<Figure size 432x288 with 1 Axes>"
      ]
     },
     "metadata": {
      "needs_background": "light"
     },
     "output_type": "display_data"
    },
    {
     "data": {
      "image/png": "[encoded data removed]",
      "text/plain": [
       "<Figure size 432x288 with 1 Axes>"
      ]
     },
     "metadata": {
      "needs_background": "light"
     },
     "output_type": "display_data"
    },
    {
     "data": {
      "image/png": "[encoded data removed]",
      "text/plain": [
       "<Figure size 432x288 with 1 Axes>"
      ]
     },
     "metadata": {
      "needs_background": "light"
     },
     "output_type": "display_data"
    },
    {
     "data": {
      "image/png": "[encoded data removed]",
      "text/plain": [
       "<Figure size 432x288 with 1 Axes>"
      ]
     },
     "metadata": {
      "needs_background": "light"
     },
     "output_type": "display_data"
    },
    {
     "data": {
      "image/png": "[encoded data removed]",
      "text/plain": [
       "<Figure size 432x288 with 1 Axes>"
      ]
     },
     "metadata": {
      "needs_background": "light"
     },
     "output_type": "display_data"
    }
   ],
   "source": [
    "for learning_rate in lrs:\n",
    "    results = gradient_descent_constant_step(\n",
    "        x = np.array([[3],[5],[7]]),lr=learning_rate,tolerance=1e-6, it_limit=100,Q_m=Q,c_m=c)\n",
    "    plt.plot(results['k'],results['norm_gradient'])\n",
    "    plt.title(str(\"Learning Rate \"+str(learning_rate)))\n",
    "    plt.xlabel(\"Iteration\")\n",
    "    plt.ylabel(\"Error\")\n",
    "    plt.show()"
   ]
  },
  {
   "cell_type": "markdown",
   "metadata": {},
   "source": [
    "## Regarding step sizes: \n",
    "\n",
    "A learning rate of 0.001 shows a linear convergence rate as the error decreases in the same size for each iteration.\n",
    "A learning rate of 0.01 and 0.1 show a tendency to a quadratic convergence rate, the latter being more pronounced. This is expected, as a bigger step size implies that for each iteration the algorithm will move faster towards the global minimum.\n",
    "A learning rate of 0.5 shows a quadratic convergence rate. At about 10 iterations, this step size makes the algorithm converge. Of all step sizes, 0.5 is the most efficient.\n",
    "A learning rate of 1 shows osciliations in the error graph. This means that the step size is to big and that the algorithm passes through the minimum several times, thus the error increases and decreases erratically"
   ]
  },
  {
   "cell_type": "markdown",
   "metadata": {},
   "source": [
    "# Variable Step Size Gradient Descent "
   ]
  },
  {
   "cell_type": "code",
   "execution_count": 38,
   "metadata": {},
   "outputs": [],
   "source": [
    "\n",
    "def gradient_descent_var_step(x,tolerance, it_limit,Q_m,c_m,lr=1):\n",
    "    i = 1\n",
    "    df = pd.DataFrame(columns=['k','x_k','p_k','norm_gradient','lr'])\n",
    "  \n",
    "    gradient =  np.matmul(Q_m,x) + c_m\n",
    "    while LA.norm(gradient) > tolerance and i < it_limit + 1:\n",
    "        x_k = x\n",
    "        gradient = np.matmul(Q_m,x_k) + c_m\n",
    "        lr = 1/i\n",
    "        x = x - lr*gradient \n",
    "        i+=1\n",
    "        run = {'k':i, 'x_k':x_k,'p_k':gradient,'norm_gradient':LA.norm(gradient),'lr':lr}\n",
    "        df = df.append(run, ignore_index=True)\n",
    "        #print(i)\n",
    "        #print(LA.norm(gradient))\n",
    "    return df\n",
    "    "
   ]
  },
  {
   "cell_type": "code",
   "execution_count": 86,
   "metadata": {},
   "outputs": [
    {
     "data": {
      "image/png": "[encoded data removed]",
      "text/plain": [
       "<Figure size 432x288 with 1 Axes>"
      ]
     },
     "metadata": {
      "needs_background": "light"
     },
     "output_type": "display_data"
    }
   ],
   "source": [
    "Q = np.array([[2,-1,0],[-1,2,-1],[0,-1,2]])\n",
    "c = np.array([[1],[0],[1]])\n",
    "x = np.array([[3],[5],[7]])\n",
    "gd_varstep_1 = gradient_descent_var_step(x = x,tolerance=1e-6, it_limit=30,Q_m=Q,c_m=c)\n",
    "plt.plot(gd_varstep_1['k'],gd_varstep_1['norm_gradient'])\n",
    "plt.title(\"Convergencia\")\n",
    "plt.xlabel(\"Iteracion\")\n",
    "plt.ylabel(\"Error\")\n",
    "plt.show()"
   ]
  },
  {
   "cell_type": "code",
   "execution_count": 87,
   "metadata": {},
   "outputs": [
    {
     "data": {
      "text/html": [
       "<div>\n",
       "<style scoped>\n",
       "    .dataframe tbody tr th:only-of-type {\n",
       "        vertical-align: middle;\n",
       "    }\n",
       "\n",
       "    .dataframe tbody tr th {\n",
       "        vertical-align: top;\n",
       "    }\n",
       "\n",
       "    .dataframe thead th {\n",
       "        text-align: right;\n",
       "    }\n",
       "</style>\n",
       "<table border=\"1\" class=\"dataframe\">\n",
       "  <thead>\n",
       "    <tr style=\"text-align: right;\">\n",
       "      <th></th>\n",
       "      <th>k</th>\n",
       "      <th>x_k</th>\n",
       "      <th>p_k</th>\n",
       "      <th>norm_gradient</th>\n",
       "      <th>lr</th>\n",
       "    </tr>\n",
       "  </thead>\n",
       "  <tbody>\n",
       "    <tr>\n",
       "      <th>0</th>\n",
       "      <td>2</td>\n",
       "      <td>[[3], [5], [7]]</td>\n",
       "      <td>[[2], [0], [10]]</td>\n",
       "      <td>10.198039</td>\n",
       "      <td>1.000000</td>\n",
       "    </tr>\n",
       "    <tr>\n",
       "      <th>1</th>\n",
       "      <td>3</td>\n",
       "      <td>[[1.0], [5.0], [-3.0]]</td>\n",
       "      <td>[[-2.0], [12.0], [-10.0]]</td>\n",
       "      <td>15.748016</td>\n",
       "      <td>0.500000</td>\n",
       "    </tr>\n",
       "    <tr>\n",
       "      <th>2</th>\n",
       "      <td>4</td>\n",
       "      <td>[[2.0], [-1.0], [2.0]]</td>\n",
       "      <td>[[6.0], [-6.0], [6.0]]</td>\n",
       "      <td>10.392305</td>\n",
       "      <td>0.333333</td>\n",
       "    </tr>\n",
       "    <tr>\n",
       "      <th>3</th>\n",
       "      <td>5</td>\n",
       "      <td>[[0.0], [1.0], [0.0]]</td>\n",
       "      <td>[[0.0], [2.0], [0.0]]</td>\n",
       "      <td>2.000000</td>\n",
       "      <td>0.250000</td>\n",
       "    </tr>\n",
       "    <tr>\n",
       "      <th>4</th>\n",
       "      <td>6</td>\n",
       "      <td>[[0.0], [0.5], [0.0]]</td>\n",
       "      <td>[[0.5], [1.0], [0.5]]</td>\n",
       "      <td>1.224745</td>\n",
       "      <td>0.200000</td>\n",
       "    </tr>\n",
       "  </tbody>\n",
       "</table>\n",
       "</div>"
      ],
      "text/plain": [
       "   k                     x_k                        p_k  norm_gradient  \\\n",
       "0  2         [[3], [5], [7]]           [[2], [0], [10]]      10.198039   \n",
       "1  3  [[1.0], [5.0], [-3.0]]  [[-2.0], [12.0], [-10.0]]      15.748016   \n",
       "2  4  [[2.0], [-1.0], [2.0]]     [[6.0], [-6.0], [6.0]]      10.392305   \n",
       "3  5   [[0.0], [1.0], [0.0]]      [[0.0], [2.0], [0.0]]       2.000000   \n",
       "4  6   [[0.0], [0.5], [0.0]]      [[0.5], [1.0], [0.5]]       1.224745   \n",
       "\n",
       "         lr  \n",
       "0  1.000000  \n",
       "1  0.500000  \n",
       "2  0.333333  \n",
       "3  0.250000  \n",
       "4  0.200000  "
      ]
     },
     "execution_count": 87,
     "metadata": {},
     "output_type": "execute_result"
    }
   ],
   "source": [
    "gd_varstep_1.head()"
   ]
  },
  {
   "cell_type": "code",
   "execution_count": 89,
   "metadata": {},
   "outputs": [
    {
     "data": {
      "image/png": "[encoded data removed]",
      "text/plain": [
       "<Figure size 432x288 with 1 Axes>"
      ]
     },
     "metadata": {
      "needs_background": "light"
     },
     "output_type": "display_data"
    }
   ],
   "source": [
    "Q = np.array([[2,-1,0],[-1,2,-1],[0,-1,2]])\n",
    "c = np.array([[1],[0],[1]])\n",
    "x = np.array([[-1],[2],[-3]])\n",
    "gd_varstep_2 = gradient_descent_var_step(x = x,tolerance=1e-6, it_limit=30,Q_m=Q,c_m=c)\n",
    "plt.plot(gd_varstep_2['k'],gd_varstep_2['norm_gradient'])\n",
    "plt.title(\"Convergencia\")\n",
    "plt.xlabel(\"Iteracion\")\n",
    "plt.ylabel(\"Error\")\n",
    "plt.show()"
   ]
  },
  {
   "cell_type": "code",
   "execution_count": 90,
   "metadata": {},
   "outputs": [
    {
     "data": {
      "text/html": [
       "<div>\n",
       "<style scoped>\n",
       "    .dataframe tbody tr th:only-of-type {\n",
       "        vertical-align: middle;\n",
       "    }\n",
       "\n",
       "    .dataframe tbody tr th {\n",
       "        vertical-align: top;\n",
       "    }\n",
       "\n",
       "    .dataframe thead th {\n",
       "        text-align: right;\n",
       "    }\n",
       "</style>\n",
       "<table border=\"1\" class=\"dataframe\">\n",
       "  <thead>\n",
       "    <tr style=\"text-align: right;\">\n",
       "      <th></th>\n",
       "      <th>k</th>\n",
       "      <th>x_k</th>\n",
       "      <th>p_k</th>\n",
       "      <th>norm_gradient</th>\n",
       "      <th>lr</th>\n",
       "    </tr>\n",
       "  </thead>\n",
       "  <tbody>\n",
       "    <tr>\n",
       "      <th>0</th>\n",
       "      <td>2</td>\n",
       "      <td>[[-1], [2], [-3]]</td>\n",
       "      <td>[[-3], [8], [-7]]</td>\n",
       "      <td>11.045361</td>\n",
       "      <td>1.000000</td>\n",
       "    </tr>\n",
       "    <tr>\n",
       "      <th>1</th>\n",
       "      <td>3</td>\n",
       "      <td>[[2.0], [-6.0], [4.0]]</td>\n",
       "      <td>[[11.0], [-18.0], [15.0]]</td>\n",
       "      <td>25.884358</td>\n",
       "      <td>0.500000</td>\n",
       "    </tr>\n",
       "    <tr>\n",
       "      <th>2</th>\n",
       "      <td>4</td>\n",
       "      <td>[[-3.5], [3.0], [-3.5]]</td>\n",
       "      <td>[[-9.0], [13.0], [-9.0]]</td>\n",
       "      <td>18.193405</td>\n",
       "      <td>0.333333</td>\n",
       "    </tr>\n",
       "    <tr>\n",
       "      <th>3</th>\n",
       "      <td>5</td>\n",
       "      <td>[[-0.5], [-1.333333333333333], [-0.5]]</td>\n",
       "      <td>[[1.333333333333333], [-1.666666666666666], [1...</td>\n",
       "      <td>2.516611</td>\n",
       "      <td>0.250000</td>\n",
       "    </tr>\n",
       "    <tr>\n",
       "      <th>4</th>\n",
       "      <td>6</td>\n",
       "      <td>[[-0.8333333333333333], [-0.9166666666666665],...</td>\n",
       "      <td>[[0.25], [-0.16666666666666652], [0.25]]</td>\n",
       "      <td>0.390868</td>\n",
       "      <td>0.200000</td>\n",
       "    </tr>\n",
       "  </tbody>\n",
       "</table>\n",
       "</div>"
      ],
      "text/plain": [
       "   k                                                x_k  \\\n",
       "0  2                                  [[-1], [2], [-3]]   \n",
       "1  3                             [[2.0], [-6.0], [4.0]]   \n",
       "2  4                            [[-3.5], [3.0], [-3.5]]   \n",
       "3  5             [[-0.5], [-1.333333333333333], [-0.5]]   \n",
       "4  6  [[-0.8333333333333333], [-0.9166666666666665],...   \n",
       "\n",
       "                                                 p_k  norm_gradient        lr  \n",
       "0                                  [[-3], [8], [-7]]      11.045361  1.000000  \n",
       "1                          [[11.0], [-18.0], [15.0]]      25.884358  0.500000  \n",
       "2                           [[-9.0], [13.0], [-9.0]]      18.193405  0.333333  \n",
       "3  [[1.333333333333333], [-1.666666666666666], [1...       2.516611  0.250000  \n",
       "4           [[0.25], [-0.16666666666666652], [0.25]]       0.390868  0.200000  "
      ]
     },
     "execution_count": 90,
     "metadata": {},
     "output_type": "execute_result"
    }
   ],
   "source": [
    "gd_varstep_2.head()"
   ]
  },
  {
   "cell_type": "markdown",
   "metadata": {},
   "source": [
    "## 2. Rosenbrock Function Optimization "
   ]
  },
  {
   "cell_type": "code",
   "execution_count": 145,
   "metadata": {},
   "outputs": [],
   "source": [
    "def gd_rosenbrock(x,y,tolerance,lr, it_limit):\n",
    "    i = 0\n",
    "    df = pd.DataFrame(columns=['k','x_k','y_k','p_k','error','lr'])\n",
    "    \n",
    "  \n",
    "    gradient = np.array([2*((200*x**3) -(200*x*y) + x - 1),200*(y-x**2)])\n",
    "    error = 1\n",
    "    while error > tolerance and i < it_limit:\n",
    "        x_k = x\n",
    "        y_k = y\n",
    "        gradient = np.array([2*((200*x_k**3)-(200*x_k*y_k) +x_k - 1),200*(y_k-x_k**2)])\n",
    "        error = LA.norm(gradient)\n",
    "        x = x - lr*gradient[0]\n",
    "        y = y - lr*gradient[1]\n",
    "        run = {'k':i, 'x_k':x_k,'y_k':y_k,'p_k':gradient,'error':error,'lr':lr}\n",
    "        df = df.append(run, ignore_index=True)\n",
    "        i+=1\n",
    "        #print(i)\n",
    "        #print(LA.norm(gradient))\n",
    "    return df\n",
    "    "
   ]
  },
  {
   "cell_type": "markdown",
   "metadata": {},
   "source": [
    "### Prove that the global minimum is at (x,y).T = (1,1)"
   ]
  },
  {
   "cell_type": "code",
   "execution_count": 147,
   "metadata": {},
   "outputs": [
    {
     "data": {
      "text/html": [
       "<div>\n",
       "<style scoped>\n",
       "    .dataframe tbody tr th:only-of-type {\n",
       "        vertical-align: middle;\n",
       "    }\n",
       "\n",
       "    .dataframe tbody tr th {\n",
       "        vertical-align: top;\n",
       "    }\n",
       "\n",
       "    .dataframe thead th {\n",
       "        text-align: right;\n",
       "    }\n",
       "</style>\n",
       "<table border=\"1\" class=\"dataframe\">\n",
       "  <thead>\n",
       "    <tr style=\"text-align: right;\">\n",
       "      <th></th>\n",
       "      <th>k</th>\n",
       "      <th>x_k</th>\n",
       "      <th>y_k</th>\n",
       "      <th>p_k</th>\n",
       "      <th>error</th>\n",
       "      <th>lr</th>\n",
       "    </tr>\n",
       "  </thead>\n",
       "  <tbody>\n",
       "    <tr>\n",
       "      <th>0</th>\n",
       "      <td>0</td>\n",
       "      <td>1</td>\n",
       "      <td>1</td>\n",
       "      <td>[0, 0]</td>\n",
       "      <td>0.0</td>\n",
       "      <td>0.05</td>\n",
       "    </tr>\n",
       "  </tbody>\n",
       "</table>\n",
       "</div>"
      ],
      "text/plain": [
       "   k x_k y_k     p_k  error    lr\n",
       "0  0   1   1  [0, 0]    0.0  0.05"
      ]
     },
     "execution_count": 147,
     "metadata": {},
     "output_type": "execute_result"
    }
   ],
   "source": [
    "gd_rosenbrock(x=1,y=1,tolerance=10e-8,lr=0.05,it_limit=1000)"
   ]
  },
  {
   "cell_type": "markdown",
   "metadata": {},
   "source": [
    "## Initial values (x,y).T = (0,0)"
   ]
  },
  {
   "cell_type": "code",
   "execution_count": 149,
   "metadata": {},
   "outputs": [
    {
     "name": "stderr",
     "output_type": "stream",
     "text": [
      "C:\\Users\\jctep\\Anaconda3\\lib\\site-packages\\ipykernel_launcher.py:11: RuntimeWarning: overflow encountered in double_scalars\n",
      "  # This is added back by InteractiveShellApp.init_path()\n",
      "C:\\Users\\jctep\\Anaconda3\\lib\\site-packages\\ipykernel_launcher.py:11: RuntimeWarning: invalid value encountered in double_scalars\n",
      "  # This is added back by InteractiveShellApp.init_path()\n"
     ]
    }
   ],
   "source": [
    "rosenbrock = gd_rosenbrock(x=0,y=0,tolerance=10e-8,lr=0.05,it_limit=1000)"
   ]
  },
  {
   "cell_type": "code",
   "execution_count": 150,
   "metadata": {},
   "outputs": [
    {
     "data": {
      "text/html": [
       "<div>\n",
       "<style scoped>\n",
       "    .dataframe tbody tr th:only-of-type {\n",
       "        vertical-align: middle;\n",
       "    }\n",
       "\n",
       "    .dataframe tbody tr th {\n",
       "        vertical-align: top;\n",
       "    }\n",
       "\n",
       "    .dataframe thead th {\n",
       "        text-align: right;\n",
       "    }\n",
       "</style>\n",
       "<table border=\"1\" class=\"dataframe\">\n",
       "  <thead>\n",
       "    <tr style=\"text-align: right;\">\n",
       "      <th></th>\n",
       "      <th>k</th>\n",
       "      <th>x_k</th>\n",
       "      <th>y_k</th>\n",
       "      <th>p_k</th>\n",
       "      <th>error</th>\n",
       "      <th>lr</th>\n",
       "    </tr>\n",
       "  </thead>\n",
       "  <tbody>\n",
       "    <tr>\n",
       "      <th>0</th>\n",
       "      <td>0</td>\n",
       "      <td>0</td>\n",
       "      <td>0</td>\n",
       "      <td>[-2, 0]</td>\n",
       "      <td>2.000000e+00</td>\n",
       "      <td>0.05</td>\n",
       "    </tr>\n",
       "    <tr>\n",
       "      <th>1</th>\n",
       "      <td>1</td>\n",
       "      <td>0.1</td>\n",
       "      <td>0</td>\n",
       "      <td>[-1.4, -2.0000000000000004]</td>\n",
       "      <td>2.441311e+00</td>\n",
       "      <td>0.05</td>\n",
       "    </tr>\n",
       "    <tr>\n",
       "      <th>2</th>\n",
       "      <td>2</td>\n",
       "      <td>0.17</td>\n",
       "      <td>0.1</td>\n",
       "      <td>[-6.494800000000003, 14.220000000000008]</td>\n",
       "      <td>1.563300e+01</td>\n",
       "      <td>0.05</td>\n",
       "    </tr>\n",
       "    <tr>\n",
       "      <th>3</th>\n",
       "      <td>3</td>\n",
       "      <td>0.49474</td>\n",
       "      <td>-0.611</td>\n",
       "      <td>[168.34247834736976, -171.1535335200001]</td>\n",
       "      <td>2.400682e+02</td>\n",
       "      <td>0.05</td>\n",
       "    </tr>\n",
       "    <tr>\n",
       "      <th>4</th>\n",
       "      <td>4</td>\n",
       "      <td>-7.92238</td>\n",
       "      <td>7.94668</td>\n",
       "      <td>[-173731.92605259476, -10963.498051635775]</td>\n",
       "      <td>1.740775e+05</td>\n",
       "      <td>0.05</td>\n",
       "    </tr>\n",
       "    <tr>\n",
       "      <th>5</th>\n",
       "      <td>5</td>\n",
       "      <td>8678.67</td>\n",
       "      <td>556.122</td>\n",
       "      <td>[261467008397566.44, -15063764973.151812]</td>\n",
       "      <td>2.614670e+14</td>\n",
       "      <td>0.05</td>\n",
       "    </tr>\n",
       "    <tr>\n",
       "      <th>6</th>\n",
       "      <td>6</td>\n",
       "      <td>-1.30734e+13</td>\n",
       "      <td>7.53189e+08</td>\n",
       "      <td>[-8.93759553661713e+41, -3.41824981948028e+28]</td>\n",
       "      <td>8.937596e+41</td>\n",
       "      <td>0.05</td>\n",
       "    </tr>\n",
       "    <tr>\n",
       "      <th>7</th>\n",
       "      <td>7</td>\n",
       "      <td>4.4688e+40</td>\n",
       "      <td>1.70912e+27</td>\n",
       "      <td>[3.5697030946777474e+124, -3.9940306988079214e...</td>\n",
       "      <td>3.569703e+124</td>\n",
       "      <td>0.05</td>\n",
       "    </tr>\n",
       "    <tr>\n",
       "      <th>8</th>\n",
       "      <td>8</td>\n",
       "      <td>-1.78485e+123</td>\n",
       "      <td>1.99702e+82</td>\n",
       "      <td>[-inf, -6.371390092075944e+248]</td>\n",
       "      <td>inf</td>\n",
       "      <td>0.05</td>\n",
       "    </tr>\n",
       "    <tr>\n",
       "      <th>9</th>\n",
       "      <td>9</td>\n",
       "      <td>inf</td>\n",
       "      <td>3.1857e+247</td>\n",
       "      <td>[nan, -inf]</td>\n",
       "      <td>NaN</td>\n",
       "      <td>0.05</td>\n",
       "    </tr>\n",
       "  </tbody>\n",
       "</table>\n",
       "</div>"
      ],
      "text/plain": [
       "   k           x_k          y_k  \\\n",
       "0  0             0            0   \n",
       "1  1           0.1            0   \n",
       "2  2          0.17          0.1   \n",
       "3  3       0.49474       -0.611   \n",
       "4  4      -7.92238      7.94668   \n",
       "5  5       8678.67      556.122   \n",
       "6  6  -1.30734e+13  7.53189e+08   \n",
       "7  7    4.4688e+40  1.70912e+27   \n",
       "8  8 -1.78485e+123  1.99702e+82   \n",
       "9  9           inf  3.1857e+247   \n",
       "\n",
       "                                                 p_k          error    lr  \n",
       "0                                            [-2, 0]   2.000000e+00  0.05  \n",
       "1                        [-1.4, -2.0000000000000004]   2.441311e+00  0.05  \n",
       "2           [-6.494800000000003, 14.220000000000008]   1.563300e+01  0.05  \n",
       "3           [168.34247834736976, -171.1535335200001]   2.400682e+02  0.05  \n",
       "4         [-173731.92605259476, -10963.498051635775]   1.740775e+05  0.05  \n",
       "5          [261467008397566.44, -15063764973.151812]   2.614670e+14  0.05  \n",
       "6     [-8.93759553661713e+41, -3.41824981948028e+28]   8.937596e+41  0.05  \n",
       "7  [3.5697030946777474e+124, -3.9940306988079214e...  3.569703e+124  0.05  \n",
       "8                    [-inf, -6.371390092075944e+248]            inf  0.05  \n",
       "9                                        [nan, -inf]            NaN  0.05  "
      ]
     },
     "execution_count": 150,
     "metadata": {},
     "output_type": "execute_result"
    }
   ],
   "source": [
    "rosenbrock"
   ]
  },
  {
   "cell_type": "code",
   "execution_count": 152,
   "metadata": {},
   "outputs": [
    {
     "data": {
      "image/png": "[encoded data removed]",
      "text/plain": [
       "<Figure size 432x288 with 1 Axes>"
      ]
     },
     "metadata": {
      "needs_background": "light"
     },
     "output_type": "display_data"
    }
   ],
   "source": [
    "plt.plot(rosenbrock['k'],rosenbrock['error'])\n",
    "plt.title(\"Convergencia\")\n",
    "plt.xlabel(\"Iteracion\")\n",
    "plt.ylabel(\"Error\")\n",
    "plt.show()"
   ]
  },
  {
   "cell_type": "code",
   "execution_count": 155,
   "metadata": {},
   "outputs": [
    {
     "name": "stderr",
     "output_type": "stream",
     "text": [
      "C:\\Users\\jctep\\Anaconda3\\lib\\site-packages\\ipykernel_launcher.py:11: RuntimeWarning: overflow encountered in double_scalars\n",
      "  # This is added back by InteractiveShellApp.init_path()\n",
      "C:\\Users\\jctep\\Anaconda3\\lib\\site-packages\\ipykernel_launcher.py:11: RuntimeWarning: invalid value encountered in double_scalars\n",
      "  # This is added back by InteractiveShellApp.init_path()\n"
     ]
    },
    {
     "data": {
      "image/png": "[encoded data removed]",
      "text/plain": [
       "<Figure size 432x288 with 1 Axes>"
      ]
     },
     "metadata": {
      "needs_background": "light"
     },
     "output_type": "display_data"
    }
   ],
   "source": [
    "rosenbrock_5_5 = gd_rosenbrock(x=5,y=5,tolerance=10e-8,lr=0.05,it_limit=1000)\n",
    "plt.plot(rosenbrock_5_5['k'],rosenbrock_5_5['error'])\n",
    "plt.title(\"Convergencia\")\n",
    "plt.xlabel(\"Iteracion\")\n",
    "plt.ylabel(\"Error\")\n",
    "plt.show()"
   ]
  },
  {
   "cell_type": "code",
   "execution_count": 156,
   "metadata": {},
   "outputs": [
    {
     "name": "stderr",
     "output_type": "stream",
     "text": [
      "C:\\Users\\jctep\\Anaconda3\\lib\\site-packages\\ipykernel_launcher.py:11: RuntimeWarning: overflow encountered in double_scalars\n",
      "  # This is added back by InteractiveShellApp.init_path()\n",
      "C:\\Users\\jctep\\Anaconda3\\lib\\site-packages\\ipykernel_launcher.py:11: RuntimeWarning: invalid value encountered in double_scalars\n",
      "  # This is added back by InteractiveShellApp.init_path()\n"
     ]
    },
    {
     "data": {
      "image/png": "[encoded data removed]",
      "text/plain": [
       "<Figure size 432x288 with 1 Axes>"
      ]
     },
     "metadata": {
      "needs_background": "light"
     },
     "output_type": "display_data"
    }
   ],
   "source": [
    "rosenbrock_2_2 = gd_rosenbrock(x=2,y=2,tolerance=10e-8,lr=0.05,it_limit=1000)\n",
    "plt.plot(rosenbrock_2_2['k'],rosenbrock_2_2['error'])\n",
    "plt.title(\"Convergencia\")\n",
    "plt.xlabel(\"Iteracion\")\n",
    "plt.ylabel(\"Error\")\n",
    "plt.show()"
   ]
  },
  {
   "cell_type": "markdown",
   "metadata": {},
   "source": [
    "## Regarding initial values at Rosenbrock optimization \n",
    "\n",
    "After a few iterations, error tends toward infinity. This shows how difficult is to find the global minimum in this function used to evaluate algorithm performance"
   ]
  },
  {
   "cell_type": "code",
   "execution_count": null,
   "metadata": {},
   "outputs": [],
   "source": []
  }
 ],
 "metadata": {
  "kernelspec": {
   "display_name": "Python 3",
   "language": "python",
   "name": "python3"
  },
  "language_info": {
   "codemirror_mode": {
    "name": "ipython",
    "version": 3
   },
   "file_extension": ".py",
   "mimetype": "text/x-python",
   "name": "python",
   "nbconvert_exporter": "python",
   "pygments_lexer": "ipython3",
   "version": "3.7.3"
  }
 },
 "nbformat": 4,
 "nbformat_minor": 2
}

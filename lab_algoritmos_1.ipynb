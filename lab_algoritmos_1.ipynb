{
 "cells": [
  {
   "cell_type": "code",
   "execution_count": 2,
   "metadata": {},
   "outputs": [],
   "source": [
    "import numpy as np\n",
    "import pandas as pd\n",
    "import math\n",
    "import re\n",
    "import matplotlib.pyplot as plt"
   ]
  },
  {
   "cell_type": "code",
   "execution_count": 3,
   "metadata": {},
   "outputs": [],
   "source": [
    "equation = '  3x^2-2x+12 + x - 17x^4  '"
   ]
  },
  {
   "cell_type": "code",
   "execution_count": 4,
   "metadata": {},
   "outputs": [
    {
     "data": {
      "text/plain": [
       "'  3x^2-2x+12 + x - 17x^4  '"
      ]
     },
     "execution_count": 4,
     "metadata": {},
     "output_type": "execute_result"
    }
   ],
   "source": [
    "equation\n"
   ]
  },
  {
   "cell_type": "code",
   "execution_count": 5,
   "metadata": {},
   "outputs": [
    {
     "data": {
      "text/plain": [
       "'3*x**2-2*x+12+x-17*x**4'"
      ]
     },
     "execution_count": 5,
     "metadata": {},
     "output_type": "execute_result"
    }
   ],
   "source": [
    "equation = '  3x^2-2x+12 + x - 17x^4  '\n",
    "equation = equation.strip()\n",
    "equation = re.sub(r\"\\^\",\"**\",equation)\n",
    "equation = re.sub(r\"x\",\"*x\",equation)\n",
    "equation = equation.replace(\" \",\"\")\n",
    "equation = re.sub(r\"\\+\\*\",\"+\",equation)\n",
    "equation = re.sub(r\"\\-\\*\",\"-\",equation)\n",
    "equation"
   ]
  },
  {
   "cell_type": "markdown",
   "metadata": {},
   "source": [
    "## Formula que parsea ecuaciones"
   ]
  },
  {
   "cell_type": "code",
   "execution_count": 6,
   "metadata": {},
   "outputs": [],
   "source": [
    "def formula(equation):\n",
    "    equation = equation.strip()\n",
    "    equation = re.sub(r\"\\^\",\"**\",equation)\n",
    "    equation = re.sub(r\"x\",\"*x\",equation)\n",
    "    equation = equation.replace(\" \",\"\")\n",
    "    equation = re.sub(r\"\\+\\*\",\"+\",equation)\n",
    "    equation = re.sub(r\"\\-\\*\",\"-\",equation)\n",
    "    return equation"
   ]
  },
  {
   "cell_type": "code",
   "execution_count": 7,
   "metadata": {},
   "outputs": [
    {
     "data": {
      "text/plain": [
       "'2*x+3*x**2+x'"
      ]
     },
     "execution_count": 7,
     "metadata": {},
     "output_type": "execute_result"
    }
   ],
   "source": [
    "formula('2x+3x^2 + x')"
   ]
  },
  {
   "cell_type": "code",
   "execution_count": 8,
   "metadata": {},
   "outputs": [],
   "source": [
    "def eval_formula(equation,x):\n",
    "    return eval(formula(equation))"
   ]
  },
  {
   "cell_type": "code",
   "execution_count": 9,
   "metadata": {},
   "outputs": [
    {
     "data": {
      "text/plain": [
       "72"
      ]
     },
     "execution_count": 9,
     "metadata": {},
     "output_type": "execute_result"
    }
   ],
   "source": [
    "eval_formula('2x + 17x^2',2)"
   ]
  },
  {
   "cell_type": "markdown",
   "metadata": {},
   "source": [
    "## Funcion que evalua derivadas "
   ]
  },
  {
   "cell_type": "code",
   "execution_count": 10,
   "metadata": {},
   "outputs": [],
   "source": [
    "def eval_derivative(equation,x,h):\n",
    "    equation = formula(equation)\n",
    "    part_1 = equation.replace(\"x\", '(x + (2*h))')\n",
    "    part_2 = equation.replace(\"x\", '(x + h)')\n",
    "    \n",
    "    derivative = '-('+part_1 + '-4*('+part_2 +')' + '+3*('+ equation +')'+')'+'/'+'(2*h)'\n",
    "    return eval(derivative)"
   ]
  },
  {
   "cell_type": "code",
   "execution_count": 11,
   "metadata": {},
   "outputs": [
    {
     "data": {
      "text/plain": [
       "-1.9999999999242843"
      ]
     },
     "execution_count": 11,
     "metadata": {},
     "output_type": "execute_result"
    }
   ],
   "source": [
    "eval_derivative( '  3x^2-2x+12 - 1  ',0,0.00001)"
   ]
  },
  {
   "cell_type": "markdown",
   "metadata": {},
   "source": [
    "## Newton Rhapson "
   ]
  },
  {
   "cell_type": "code",
   "execution_count": 12,
   "metadata": {},
   "outputs": [],
   "source": [
    "def newton_rhapson(equation,x_0 ,tolerance):\n",
    "    error = 1\n",
    "    h = 0.00001\n",
    "    df = pd.DataFrame(columns=['i','x_k','x_k1','F(x)',\"f'(x)\",'error'])\n",
    "    x = x_0\n",
    "    i = 0\n",
    "    while error > tolerance:\n",
    "        x_k = x\n",
    "        x = x - (eval_formula(equation,x))/eval_derivative(equation,x,h)\n",
    "        error = np.abs(x-x_k)\n",
    "        i+=1\n",
    "        run = {'i':i, 'x_k':x_k, 'x_k1':x,'F(x)':eval_formula(equation,x),\"f'(x)\":eval_derivative(equation,x,h), 'error':error}\n",
    "        df = df.append(run, ignore_index=True)\n",
    "        x_estrella = x_k\n",
    "    return df, x_estrella"
   ]
  },
  {
   "cell_type": "markdown",
   "metadata": {},
   "source": [
    "## Para este ejercicio no pasamos la funcion, si no su derivada. Esto para poder encontrar el minimo."
   ]
  },
  {
   "cell_type": "code",
   "execution_count": 46,
   "metadata": {},
   "outputs": [],
   "source": [
    "table, x_star = newton_rhapson('16x^3 -4', 1,0.000001)"
   ]
  },
  {
   "cell_type": "code",
   "execution_count": 47,
   "metadata": {},
   "outputs": [
    {
     "data": {
      "text/html": [
       "<div>\n",
       "<style scoped>\n",
       "    .dataframe tbody tr th:only-of-type {\n",
       "        vertical-align: middle;\n",
       "    }\n",
       "\n",
       "    .dataframe tbody tr th {\n",
       "        vertical-align: top;\n",
       "    }\n",
       "\n",
       "    .dataframe thead th {\n",
       "        text-align: right;\n",
       "    }\n",
       "</style>\n",
       "<table border=\"1\" class=\"dataframe\">\n",
       "  <thead>\n",
       "    <tr style=\"text-align: right;\">\n",
       "      <th></th>\n",
       "      <th>i</th>\n",
       "      <th>x_k</th>\n",
       "      <th>x_k1</th>\n",
       "      <th>F(x)</th>\n",
       "      <th>f'(x)</th>\n",
       "      <th>error</th>\n",
       "    </tr>\n",
       "  </thead>\n",
       "  <tbody>\n",
       "    <tr>\n",
       "      <th>0</th>\n",
       "      <td>1.0</td>\n",
       "      <td>1.000000</td>\n",
       "      <td>0.750000</td>\n",
       "      <td>2.750000e+00</td>\n",
       "      <td>27.000000</td>\n",
       "      <td>2.500000e-01</td>\n",
       "    </tr>\n",
       "    <tr>\n",
       "      <th>1</th>\n",
       "      <td>2.0</td>\n",
       "      <td>0.750000</td>\n",
       "      <td>0.648148</td>\n",
       "      <td>3.565513e-01</td>\n",
       "      <td>20.164609</td>\n",
       "      <td>1.018519e-01</td>\n",
       "    </tr>\n",
       "    <tr>\n",
       "      <th>2</th>\n",
       "      <td>3.0</td>\n",
       "      <td>0.648148</td>\n",
       "      <td>0.630466</td>\n",
       "      <td>9.638572e-03</td>\n",
       "      <td>19.079401</td>\n",
       "      <td>1.768204e-02</td>\n",
       "    </tr>\n",
       "    <tr>\n",
       "      <th>3</th>\n",
       "      <td>4.0</td>\n",
       "      <td>0.630466</td>\n",
       "      <td>0.629961</td>\n",
       "      <td>7.721164e-06</td>\n",
       "      <td>19.048837</td>\n",
       "      <td>5.051821e-04</td>\n",
       "    </tr>\n",
       "    <tr>\n",
       "      <th>4</th>\n",
       "      <td>5.0</td>\n",
       "      <td>0.629961</td>\n",
       "      <td>0.629961</td>\n",
       "      <td>4.965806e-12</td>\n",
       "      <td>19.048813</td>\n",
       "      <td>4.053352e-07</td>\n",
       "    </tr>\n",
       "  </tbody>\n",
       "</table>\n",
       "</div>"
      ],
      "text/plain": [
       "     i       x_k      x_k1          F(x)      f'(x)         error\n",
       "0  1.0  1.000000  0.750000  2.750000e+00  27.000000  2.500000e-01\n",
       "1  2.0  0.750000  0.648148  3.565513e-01  20.164609  1.018519e-01\n",
       "2  3.0  0.648148  0.630466  9.638572e-03  19.079401  1.768204e-02\n",
       "3  4.0  0.630466  0.629961  7.721164e-06  19.048837  5.051821e-04\n",
       "4  5.0  0.629961  0.629961  4.965806e-12  19.048813  4.053352e-07"
      ]
     },
     "execution_count": 47,
     "metadata": {},
     "output_type": "execute_result"
    }
   ],
   "source": [
    "table"
   ]
  },
  {
   "cell_type": "markdown",
   "metadata": {},
   "source": [
    "# ¿Es mínimo local o global? \n",
    "El valor de x_star lo que nos está dando es un mínimo global ya que es una función convexa, y todo mínimo local es un mínimo global."
   ]
  },
  {
   "cell_type": "code",
   "execution_count": 48,
   "metadata": {},
   "outputs": [
    {
     "data": {
      "text/plain": [
       "0.6299609302828674"
      ]
     },
     "execution_count": 48,
     "metadata": {},
     "output_type": "execute_result"
    }
   ],
   "source": [
    "x_star"
   ]
  },
  {
   "cell_type": "code",
   "execution_count": 50,
   "metadata": {},
   "outputs": [
    {
     "data": {
      "text/plain": [
       "7.721163639118345e-06"
      ]
     },
     "execution_count": 50,
     "metadata": {},
     "output_type": "execute_result"
    }
   ],
   "source": [
    "16*x_star**3 -4"
   ]
  },
  {
   "cell_type": "code",
   "execution_count": 51,
   "metadata": {},
   "outputs": [
    {
     "data": {
      "text/plain": [
       "0    0.370039\n",
       "1    0.120039\n",
       "2    0.018187\n",
       "3    0.000505\n",
       "4    0.000000\n",
       "Name: x_k, dtype: float64"
      ]
     },
     "execution_count": 51,
     "metadata": {},
     "output_type": "execute_result"
    }
   ],
   "source": [
    "abs(table.iloc[:,1] - x_star)"
   ]
  },
  {
   "cell_type": "markdown",
   "metadata": {},
   "source": [
    "## Gráfica de convergencia "
   ]
  },
  {
   "cell_type": "code",
   "execution_count": 52,
   "metadata": {},
   "outputs": [
    {
     "data": {
      "image/png": "[encoded data removed]",
      "text/plain": [
       "<Figure size 432x288 with 1 Axes>"
      ]
     },
     "metadata": {
      "needs_background": "light"
     },
     "output_type": "display_data"
    }
   ],
   "source": [
    "plt.plot(table.iloc[:,0],abs(table.iloc[:,1] - x_star))\n",
    "plt.title(\"Convergencia\")\n",
    "plt.xlabel(\"Iteracion\")\n",
    "plt.ylabel(\"Error\")\n",
    "plt.show()\n"
   ]
  },
  {
   "cell_type": "markdown",
   "metadata": {},
   "source": [
    "El error viene bajando en cada iteración de la función. Después de 7 iteraciones converge. "
   ]
  },
  {
   "cell_type": "markdown",
   "metadata": {},
   "source": [
    "## Generar regresión para obtener tasa de convergencia y constante C "
   ]
  },
  {
   "cell_type": "code",
   "execution_count": 53,
   "metadata": {},
   "outputs": [
    {
     "name": "stderr",
     "output_type": "stream",
     "text": [
      "C:\\Users\\jctep\\Anaconda3\\lib\\site-packages\\ipykernel_launcher.py:4: RuntimeWarning: divide by zero encountered in log\n",
      "  after removing the cwd from sys.path.\n"
     ]
    },
    {
     "data": {
      "text/html": [
       "<div>\n",
       "<style scoped>\n",
       "    .dataframe tbody tr th:only-of-type {\n",
       "        vertical-align: middle;\n",
       "    }\n",
       "\n",
       "    .dataframe tbody tr th {\n",
       "        vertical-align: top;\n",
       "    }\n",
       "\n",
       "    .dataframe thead th {\n",
       "        text-align: right;\n",
       "    }\n",
       "</style>\n",
       "<table border=\"1\" class=\"dataframe\">\n",
       "  <thead>\n",
       "    <tr style=\"text-align: right;\">\n",
       "      <th></th>\n",
       "      <th>ek</th>\n",
       "      <th>ek1</th>\n",
       "    </tr>\n",
       "  </thead>\n",
       "  <tbody>\n",
       "    <tr>\n",
       "      <th>0</th>\n",
       "      <td>-0.994147</td>\n",
       "      <td>-2.119938</td>\n",
       "    </tr>\n",
       "    <tr>\n",
       "      <th>1</th>\n",
       "      <td>-2.119938</td>\n",
       "      <td>-4.007036</td>\n",
       "    </tr>\n",
       "    <tr>\n",
       "      <th>2</th>\n",
       "      <td>-4.007036</td>\n",
       "      <td>-7.590592</td>\n",
       "    </tr>\n",
       "  </tbody>\n",
       "</table>\n",
       "</div>"
      ],
      "text/plain": [
       "         ek       ek1\n",
       "0 -0.994147 -2.119938\n",
       "1 -2.119938 -4.007036\n",
       "2 -4.007036 -7.590592"
      ]
     },
     "execution_count": 53,
     "metadata": {},
     "output_type": "execute_result"
    }
   ],
   "source": [
    "ek = []\n",
    "ek1 = []\n",
    "for x_k in table.iloc[0:table.shape[0],1]:\n",
    "    ek.append(np.log(np.abs(x_k - x_star)))\n",
    "ek1 = ek[1:len(ek)]\n",
    "ek = ek[0:len(ek)-1]\n",
    "ek1= ek[1:len(ek)]\n",
    "ek = ek[0:len(ek)-1]\n",
    "log_error_table = pd.DataFrame()\n",
    "log_error_table['ek'] = ek\n",
    "log_error_table['ek1'] = ek1\n",
    "log_error_table"
   ]
  },
  {
   "cell_type": "code",
   "execution_count": 54,
   "metadata": {},
   "outputs": [
    {
     "data": {
      "text/plain": [
       "LinearRegression(copy_X=True, fit_intercept=True, n_jobs=None,\n",
       "         normalize=False)"
      ]
     },
     "execution_count": 54,
     "metadata": {},
     "output_type": "execute_result"
    }
   ],
   "source": [
    "from sklearn.linear_model import LinearRegression\n",
    "\n",
    "model = LinearRegression()  #objeto para manejar regresion lineal\n",
    "model.fit(log_error_table[['ek']], log_error_table[['ek1']])  #creamos modelo X y "
   ]
  },
  {
   "cell_type": "code",
   "execution_count": 55,
   "metadata": {},
   "outputs": [
    {
     "name": "stdout",
     "output_type": "stream",
     "text": [
      "Convergence rate r:  1.824348122030814\n"
     ]
    }
   ],
   "source": [
    "r = model.coef_\n",
    "print(\"Convergence rate r: \", float(r))"
   ]
  },
  {
   "cell_type": "code",
   "execution_count": 56,
   "metadata": {},
   "outputs": [
    {
     "name": "stdout",
     "output_type": "stream",
     "text": [
      "Constant C:  0.7850137145890798\n"
     ]
    }
   ],
   "source": [
    "C = np.exp(model.intercept_)\n",
    "print(\"Constant C: \", float(C))"
   ]
  },
  {
   "cell_type": "markdown",
   "metadata": {},
   "source": [
    "### Bisection"
   ]
  },
  {
   "cell_type": "code",
   "execution_count": 78,
   "metadata": {},
   "outputs": [],
   "source": [
    "def bisection(equation,a,b,tolerance):\n",
    "    x = (a + b)/2\n",
    "    h = 0.00001\n",
    "    error = 10\n",
    "    i = 0\n",
    "    df = pd.DataFrame(columns=['i','x_k','x_k1','F(x)','error'])\n",
    "    while error > tolerance:\n",
    "        x_k = x\n",
    "        x = (a + b)/2\n",
    "        f_a = eval_formula(equation,a)\n",
    "        f_c = eval_formula(equation,x)\n",
    "        f_b = eval_formula(equation,b)\n",
    "        #if f_a * f_b > 0:\n",
    "        #    print(\"Method failed, interval does not contain the root\")\n",
    "         #   break\n",
    "        if f_c == 0:\n",
    "            x_star = c\n",
    "            i+=1\n",
    "            run = {'i':i, 'x_k':x_k, 'x_k1':x,'F(x)':f_c, 'error':error}\n",
    "            df = df.append(run, ignore_index=True)\n",
    "            break\n",
    "        elif f_a * f_c < 0:\n",
    "            b = x\n",
    "            i+=1\n",
    "            run = {'i':i, 'x_k':x_k, 'x_k1':x,'F(x)':f_c, 'error':error}\n",
    "        else:\n",
    "            a = x\n",
    "        x_star = x\n",
    "        error = np.abs(f_c)\n",
    "        i+=1\n",
    "        run = {'i':i, 'x_k':x_k, 'x_k1':x,'F(x)':f_c, 'error':error}\n",
    "        df = df.append(run, ignore_index=True)\n",
    "    print(\"root:\",x_star)\n",
    "    print(\"iterations required:\",i)\n",
    "    return df, x_star\n",
    "        "
   ]
  },
  {
   "cell_type": "code",
   "execution_count": 79,
   "metadata": {},
   "outputs": [
    {
     "name": "stdout",
     "output_type": "stream",
     "text": [
      "root: 0.6299605369567871\n",
      "iterations required: 36\n"
     ]
    }
   ],
   "source": [
    "table_bi, x_star_bi= bisection('16x^3 -4',0.5,1.5,.000001)"
   ]
  },
  {
   "cell_type": "code",
   "execution_count": 80,
   "metadata": {},
   "outputs": [
    {
     "data": {
      "text/html": [
       "<div>\n",
       "<style scoped>\n",
       "    .dataframe tbody tr th:only-of-type {\n",
       "        vertical-align: middle;\n",
       "    }\n",
       "\n",
       "    .dataframe tbody tr th {\n",
       "        vertical-align: top;\n",
       "    }\n",
       "\n",
       "    .dataframe thead th {\n",
       "        text-align: right;\n",
       "    }\n",
       "</style>\n",
       "<table border=\"1\" class=\"dataframe\">\n",
       "  <thead>\n",
       "    <tr style=\"text-align: right;\">\n",
       "      <th></th>\n",
       "      <th>i</th>\n",
       "      <th>x_k</th>\n",
       "      <th>x_k1</th>\n",
       "      <th>F(x)</th>\n",
       "      <th>error</th>\n",
       "    </tr>\n",
       "  </thead>\n",
       "  <tbody>\n",
       "    <tr>\n",
       "      <th>0</th>\n",
       "      <td>2.0</td>\n",
       "      <td>1.000000</td>\n",
       "      <td>1.000000</td>\n",
       "      <td>1.200000e+01</td>\n",
       "      <td>1.200000e+01</td>\n",
       "    </tr>\n",
       "    <tr>\n",
       "      <th>1</th>\n",
       "      <td>4.0</td>\n",
       "      <td>1.000000</td>\n",
       "      <td>0.750000</td>\n",
       "      <td>2.750000e+00</td>\n",
       "      <td>2.750000e+00</td>\n",
       "    </tr>\n",
       "    <tr>\n",
       "      <th>2</th>\n",
       "      <td>5.0</td>\n",
       "      <td>0.750000</td>\n",
       "      <td>0.625000</td>\n",
       "      <td>-9.375000e-02</td>\n",
       "      <td>9.375000e-02</td>\n",
       "    </tr>\n",
       "    <tr>\n",
       "      <th>3</th>\n",
       "      <td>7.0</td>\n",
       "      <td>0.625000</td>\n",
       "      <td>0.687500</td>\n",
       "      <td>1.199219e+00</td>\n",
       "      <td>1.199219e+00</td>\n",
       "    </tr>\n",
       "    <tr>\n",
       "      <th>4</th>\n",
       "      <td>9.0</td>\n",
       "      <td>0.687500</td>\n",
       "      <td>0.656250</td>\n",
       "      <td>5.219727e-01</td>\n",
       "      <td>5.219727e-01</td>\n",
       "    </tr>\n",
       "    <tr>\n",
       "      <th>5</th>\n",
       "      <td>11.0</td>\n",
       "      <td>0.656250</td>\n",
       "      <td>0.640625</td>\n",
       "      <td>2.066040e-01</td>\n",
       "      <td>2.066040e-01</td>\n",
       "    </tr>\n",
       "    <tr>\n",
       "      <th>6</th>\n",
       "      <td>13.0</td>\n",
       "      <td>0.640625</td>\n",
       "      <td>0.632812</td>\n",
       "      <td>5.457306e-02</td>\n",
       "      <td>5.457306e-02</td>\n",
       "    </tr>\n",
       "    <tr>\n",
       "      <th>7</th>\n",
       "      <td>14.0</td>\n",
       "      <td>0.632812</td>\n",
       "      <td>0.628906</td>\n",
       "      <td>-2.004910e-02</td>\n",
       "      <td>2.004910e-02</td>\n",
       "    </tr>\n",
       "    <tr>\n",
       "      <th>8</th>\n",
       "      <td>16.0</td>\n",
       "      <td>0.628906</td>\n",
       "      <td>0.630859</td>\n",
       "      <td>1.714647e-02</td>\n",
       "      <td>1.714647e-02</td>\n",
       "    </tr>\n",
       "    <tr>\n",
       "      <th>9</th>\n",
       "      <td>17.0</td>\n",
       "      <td>0.630859</td>\n",
       "      <td>0.629883</td>\n",
       "      <td>-1.480147e-03</td>\n",
       "      <td>1.480147e-03</td>\n",
       "    </tr>\n",
       "    <tr>\n",
       "      <th>10</th>\n",
       "      <td>19.0</td>\n",
       "      <td>0.629883</td>\n",
       "      <td>0.630371</td>\n",
       "      <td>7.825946e-03</td>\n",
       "      <td>7.825946e-03</td>\n",
       "    </tr>\n",
       "    <tr>\n",
       "      <th>11</th>\n",
       "      <td>21.0</td>\n",
       "      <td>0.630371</td>\n",
       "      <td>0.630127</td>\n",
       "      <td>3.171097e-03</td>\n",
       "      <td>3.171097e-03</td>\n",
       "    </tr>\n",
       "    <tr>\n",
       "      <th>12</th>\n",
       "      <td>23.0</td>\n",
       "      <td>0.630127</td>\n",
       "      <td>0.630005</td>\n",
       "      <td>8.450242e-04</td>\n",
       "      <td>8.450242e-04</td>\n",
       "    </tr>\n",
       "    <tr>\n",
       "      <th>13</th>\n",
       "      <td>24.0</td>\n",
       "      <td>0.630005</td>\n",
       "      <td>0.629944</td>\n",
       "      <td>-3.176742e-04</td>\n",
       "      <td>3.176742e-04</td>\n",
       "    </tr>\n",
       "    <tr>\n",
       "      <th>14</th>\n",
       "      <td>26.0</td>\n",
       "      <td>0.629944</td>\n",
       "      <td>0.629974</td>\n",
       "      <td>2.636468e-04</td>\n",
       "      <td>2.636468e-04</td>\n",
       "    </tr>\n",
       "    <tr>\n",
       "      <th>15</th>\n",
       "      <td>27.0</td>\n",
       "      <td>0.629974</td>\n",
       "      <td>0.629959</td>\n",
       "      <td>-2.702072e-05</td>\n",
       "      <td>2.702072e-05</td>\n",
       "    </tr>\n",
       "    <tr>\n",
       "      <th>16</th>\n",
       "      <td>29.0</td>\n",
       "      <td>0.629959</td>\n",
       "      <td>0.629967</td>\n",
       "      <td>1.183113e-04</td>\n",
       "      <td>1.183113e-04</td>\n",
       "    </tr>\n",
       "    <tr>\n",
       "      <th>17</th>\n",
       "      <td>31.0</td>\n",
       "      <td>0.629967</td>\n",
       "      <td>0.629963</td>\n",
       "      <td>4.564485e-05</td>\n",
       "      <td>4.564485e-05</td>\n",
       "    </tr>\n",
       "    <tr>\n",
       "      <th>18</th>\n",
       "      <td>33.0</td>\n",
       "      <td>0.629963</td>\n",
       "      <td>0.629961</td>\n",
       "      <td>9.311953e-06</td>\n",
       "      <td>9.311953e-06</td>\n",
       "    </tr>\n",
       "    <tr>\n",
       "      <th>19</th>\n",
       "      <td>34.0</td>\n",
       "      <td>0.629961</td>\n",
       "      <td>0.629960</td>\n",
       "      <td>-8.854411e-06</td>\n",
       "      <td>8.854411e-06</td>\n",
       "    </tr>\n",
       "    <tr>\n",
       "      <th>20</th>\n",
       "      <td>36.0</td>\n",
       "      <td>0.629960</td>\n",
       "      <td>0.629961</td>\n",
       "      <td>2.287639e-07</td>\n",
       "      <td>2.287639e-07</td>\n",
       "    </tr>\n",
       "  </tbody>\n",
       "</table>\n",
       "</div>"
      ],
      "text/plain": [
       "       i       x_k      x_k1          F(x)         error\n",
       "0    2.0  1.000000  1.000000  1.200000e+01  1.200000e+01\n",
       "1    4.0  1.000000  0.750000  2.750000e+00  2.750000e+00\n",
       "2    5.0  0.750000  0.625000 -9.375000e-02  9.375000e-02\n",
       "3    7.0  0.625000  0.687500  1.199219e+00  1.199219e+00\n",
       "4    9.0  0.687500  0.656250  5.219727e-01  5.219727e-01\n",
       "5   11.0  0.656250  0.640625  2.066040e-01  2.066040e-01\n",
       "6   13.0  0.640625  0.632812  5.457306e-02  5.457306e-02\n",
       "7   14.0  0.632812  0.628906 -2.004910e-02  2.004910e-02\n",
       "8   16.0  0.628906  0.630859  1.714647e-02  1.714647e-02\n",
       "9   17.0  0.630859  0.629883 -1.480147e-03  1.480147e-03\n",
       "10  19.0  0.629883  0.630371  7.825946e-03  7.825946e-03\n",
       "11  21.0  0.630371  0.630127  3.171097e-03  3.171097e-03\n",
       "12  23.0  0.630127  0.630005  8.450242e-04  8.450242e-04\n",
       "13  24.0  0.630005  0.629944 -3.176742e-04  3.176742e-04\n",
       "14  26.0  0.629944  0.629974  2.636468e-04  2.636468e-04\n",
       "15  27.0  0.629974  0.629959 -2.702072e-05  2.702072e-05\n",
       "16  29.0  0.629959  0.629967  1.183113e-04  1.183113e-04\n",
       "17  31.0  0.629967  0.629963  4.564485e-05  4.564485e-05\n",
       "18  33.0  0.629963  0.629961  9.311953e-06  9.311953e-06\n",
       "19  34.0  0.629961  0.629960 -8.854411e-06  8.854411e-06\n",
       "20  36.0  0.629960  0.629961  2.287639e-07  2.287639e-07"
      ]
     },
     "execution_count": 80,
     "metadata": {},
     "output_type": "execute_result"
    }
   ],
   "source": [
    "table_bi"
   ]
  },
  {
   "cell_type": "code",
   "execution_count": 81,
   "metadata": {},
   "outputs": [
    {
     "data": {
      "image/png": "[encoded data removed]",
      "text/plain": [
       "<Figure size 432x288 with 1 Axes>"
      ]
     },
     "metadata": {
      "needs_background": "light"
     },
     "output_type": "display_data"
    }
   ],
   "source": [
    "plt.plot(table_bi.iloc[:,0],abs(table_bi.iloc[:,1] - x_star_bi))\n",
    "plt.title(\"Convergencia Biseccion\")\n",
    "plt.xlabel(\"Iteracion\")\n",
    "plt.ylabel(\"Error\")\n",
    "plt.show()"
   ]
  },
  {
   "cell_type": "markdown",
   "metadata": {},
   "source": [
    "## Regresión de errores para metodo de biseccion "
   ]
  },
  {
   "cell_type": "code",
   "execution_count": 82,
   "metadata": {},
   "outputs": [
    {
     "data": {
      "text/html": [
       "<div>\n",
       "<style scoped>\n",
       "    .dataframe tbody tr th:only-of-type {\n",
       "        vertical-align: middle;\n",
       "    }\n",
       "\n",
       "    .dataframe tbody tr th {\n",
       "        vertical-align: top;\n",
       "    }\n",
       "\n",
       "    .dataframe thead th {\n",
       "        text-align: right;\n",
       "    }\n",
       "</style>\n",
       "<table border=\"1\" class=\"dataframe\">\n",
       "  <thead>\n",
       "    <tr style=\"text-align: right;\">\n",
       "      <th></th>\n",
       "      <th>ek</th>\n",
       "      <th>ek1</th>\n",
       "    </tr>\n",
       "  </thead>\n",
       "  <tbody>\n",
       "    <tr>\n",
       "      <th>0</th>\n",
       "      <td>-0.994146</td>\n",
       "      <td>-0.994146</td>\n",
       "    </tr>\n",
       "    <tr>\n",
       "      <th>1</th>\n",
       "      <td>-0.994146</td>\n",
       "      <td>-2.119935</td>\n",
       "    </tr>\n",
       "    <tr>\n",
       "      <th>2</th>\n",
       "      <td>-2.119935</td>\n",
       "      <td>-5.306241</td>\n",
       "    </tr>\n",
       "    <tr>\n",
       "      <th>3</th>\n",
       "      <td>-5.306241</td>\n",
       "      <td>-2.855284</td>\n",
       "    </tr>\n",
       "    <tr>\n",
       "      <th>4</th>\n",
       "      <td>-2.855284</td>\n",
       "      <td>-3.638587</td>\n",
       "    </tr>\n",
       "    <tr>\n",
       "      <th>5</th>\n",
       "      <td>-3.638587</td>\n",
       "      <td>-4.540838</td>\n",
       "    </tr>\n",
       "    <tr>\n",
       "      <th>6</th>\n",
       "      <td>-4.540838</td>\n",
       "      <td>-5.859748</td>\n",
       "    </tr>\n",
       "    <tr>\n",
       "      <th>7</th>\n",
       "      <td>-5.859748</td>\n",
       "      <td>-6.854891</td>\n",
       "    </tr>\n",
       "    <tr>\n",
       "      <th>8</th>\n",
       "      <td>-6.854891</td>\n",
       "      <td>-7.014408</td>\n",
       "    </tr>\n",
       "    <tr>\n",
       "      <th>9</th>\n",
       "      <td>-7.014408</td>\n",
       "      <td>-9.462341</td>\n",
       "    </tr>\n",
       "    <tr>\n",
       "      <th>10</th>\n",
       "      <td>-9.462341</td>\n",
       "      <td>-7.797996</td>\n",
       "    </tr>\n",
       "    <tr>\n",
       "      <th>11</th>\n",
       "      <td>-7.797996</td>\n",
       "      <td>-8.701019</td>\n",
       "    </tr>\n",
       "    <tr>\n",
       "      <th>12</th>\n",
       "      <td>-8.701019</td>\n",
       "      <td>-10.023491</td>\n",
       "    </tr>\n",
       "    <tr>\n",
       "      <th>13</th>\n",
       "      <td>-10.023491</td>\n",
       "      <td>-11.000743</td>\n",
       "    </tr>\n",
       "    <tr>\n",
       "      <th>14</th>\n",
       "      <td>-11.000743</td>\n",
       "      <td>-11.188795</td>\n",
       "    </tr>\n",
       "    <tr>\n",
       "      <th>15</th>\n",
       "      <td>-11.188795</td>\n",
       "      <td>-13.457479</td>\n",
       "    </tr>\n",
       "    <tr>\n",
       "      <th>16</th>\n",
       "      <td>-13.457479</td>\n",
       "      <td>-11.991141</td>\n",
       "    </tr>\n",
       "    <tr>\n",
       "      <th>17</th>\n",
       "      <td>-11.991141</td>\n",
       "      <td>-12.946653</td>\n",
       "    </tr>\n",
       "    <tr>\n",
       "      <th>18</th>\n",
       "      <td>-12.946653</td>\n",
       "      <td>-14.556091</td>\n",
       "    </tr>\n",
       "  </tbody>\n",
       "</table>\n",
       "</div>"
      ],
      "text/plain": [
       "           ek        ek1\n",
       "0   -0.994146  -0.994146\n",
       "1   -0.994146  -2.119935\n",
       "2   -2.119935  -5.306241\n",
       "3   -5.306241  -2.855284\n",
       "4   -2.855284  -3.638587\n",
       "5   -3.638587  -4.540838\n",
       "6   -4.540838  -5.859748\n",
       "7   -5.859748  -6.854891\n",
       "8   -6.854891  -7.014408\n",
       "9   -7.014408  -9.462341\n",
       "10  -9.462341  -7.797996\n",
       "11  -7.797996  -8.701019\n",
       "12  -8.701019 -10.023491\n",
       "13 -10.023491 -11.000743\n",
       "14 -11.000743 -11.188795\n",
       "15 -11.188795 -13.457479\n",
       "16 -13.457479 -11.991141\n",
       "17 -11.991141 -12.946653\n",
       "18 -12.946653 -14.556091"
      ]
     },
     "execution_count": 82,
     "metadata": {},
     "output_type": "execute_result"
    }
   ],
   "source": [
    "ek_bi = []\n",
    "ek1_bi = []\n",
    "for x_k in table_bi.iloc[0:table_bi.shape[0],1]:\n",
    "    ek_bi.append(np.log(np.abs(x_k - x_star_bi)))\n",
    "ek1_bi = ek_bi[1:len(ek_bi)]\n",
    "ek_bi = ek_bi[0:len(ek_bi)-1]\n",
    "ek1_bi= ek_bi[1:len(ek_bi)]\n",
    "ek_bi = ek_bi[0:len(ek_bi)-1]\n",
    "log_error_table_bi = pd.DataFrame()\n",
    "log_error_table_bi['ek'] = ek_bi\n",
    "log_error_table_bi['ek1'] = ek1_bi\n",
    "log_error_table_bi"
   ]
  },
  {
   "cell_type": "code",
   "execution_count": 83,
   "metadata": {},
   "outputs": [
    {
     "data": {
      "text/plain": [
       "19"
      ]
     },
     "execution_count": 83,
     "metadata": {},
     "output_type": "execute_result"
    }
   ],
   "source": [
    "len(log_error_table_bi)"
   ]
  },
  {
   "cell_type": "code",
   "execution_count": 84,
   "metadata": {},
   "outputs": [
    {
     "data": {
      "text/plain": [
       "LinearRegression(copy_X=True, fit_intercept=True, n_jobs=None,\n",
       "         normalize=False)"
      ]
     },
     "execution_count": 84,
     "metadata": {},
     "output_type": "execute_result"
    }
   ],
   "source": [
    "model_bi = LinearRegression()  #objeto para manejar regresion lineal\n",
    "model_bi.fit(log_error_table_bi[['ek']], log_error_table_bi[['ek1']])  "
   ]
  },
  {
   "cell_type": "code",
   "execution_count": 85,
   "metadata": {},
   "outputs": [
    {
     "name": "stdout",
     "output_type": "stream",
     "text": [
      "Convergence rate r for bisection model:  0.9495930613176616\n"
     ]
    }
   ],
   "source": [
    "r_bi = model_bi.coef_\n",
    "print(\"Convergence rate r for bisection model: \", float(r_bi))"
   ]
  },
  {
   "cell_type": "code",
   "execution_count": 86,
   "metadata": {},
   "outputs": [
    {
     "name": "stdout",
     "output_type": "stream",
     "text": [
      "Constant C for bisection model:  0.34075951899106544\n"
     ]
    }
   ],
   "source": [
    "C_bi = np.exp(model_bi.intercept_)\n",
    "print(\"Constant C for bisection model: \", float(C_bi))"
   ]
  },
  {
   "cell_type": "code",
   "execution_count": 87,
   "metadata": {},
   "outputs": [
    {
     "name": "stdout",
     "output_type": "stream",
     "text": [
      "Convergence rate r:  1.824348122030814\n",
      "Convergence rate r for bisection model:  0.9495930613176616\n",
      "Constant C:  0.7850137145890798\n",
      "Constant C for bisection model:  0.34075951899106544\n"
     ]
    }
   ],
   "source": [
    "print(\"Convergence rate r: \", float(r))\n",
    "print(\"Convergence rate r for bisection model: \", float(r_bi))\n",
    "print(\"Constant C: \", float(C))\n",
    "print(\"Constant C for bisection model: \", float(C_bi))"
   ]
  },
  {
   "cell_type": "markdown",
   "metadata": {},
   "source": [
    "## Conclusiones \n",
    "\n",
    "Analíticamente sabemos que el método de Newton Rhapson tiene una tasa de convergencia cuadrática y Bisección una tasa de convergencia lineal. Esto implica que el método de Newton Rhapson converge con mayor velocidad al punto estacionario de la función comparado al método de la bisección.\n",
    "\n",
    "Probando esto por medio de un método iterativo y estimando los parámetros de convergencia de ambas funciones, podemos ver que empíricamente la tasa de convergencia de Newton Rhapson tiende a 2 y la de bisección a 1, comprobando lo visto analíticamente.\n",
    "\n",
    "También es importante mencionar que Newton Rhapson alcanzó la convergencia en 5 iteraciones mientras que Bisección le tomó 20 iteraciones, haciendo que Newton Rhapson sea un método superior."
   ]
  },
  {
   "cell_type": "code",
   "execution_count": null,
   "metadata": {},
   "outputs": [],
   "source": []
  }
 ],
 "metadata": {
  "kernelspec": {
   "display_name": "Python 3",
   "language": "python",
   "name": "python3"
  },
  "language_info": {
   "codemirror_mode": {
    "name": "ipython",
    "version": 3
   },
   "file_extension": ".py",
   "mimetype": "text/x-python",
   "name": "python",
   "nbconvert_exporter": "python",
   "pygments_lexer": "ipython3",
   "version": "3.7.3"
  }
 },
 "nbformat": 4,
 "nbformat_minor": 2
}
